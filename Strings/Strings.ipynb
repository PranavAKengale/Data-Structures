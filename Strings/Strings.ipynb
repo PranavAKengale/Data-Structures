{
 "cells": [
  {
   "cell_type": "markdown",
   "id": "29b293a0",
   "metadata": {},
   "source": [
    "# Palindrome Check (Easy)"
   ]
  },
  {
   "cell_type": "code",
   "execution_count": 1,
   "id": "68a966b5",
   "metadata": {},
   "outputs": [],
   "source": [
    "string='abcdcba'"
   ]
  },
  {
   "cell_type": "code",
   "execution_count": 2,
   "id": "65e0ac51",
   "metadata": {},
   "outputs": [],
   "source": [
    "# Approach 1\n",
    "# T:O(n^2), S:O(n)      ....... T:O(n^2)\n",
    "def palindromeCheck(string):\n",
    "    new=''\n",
    "    for i in range(len(string)):\n",
    "        new+=string[i]\n",
    "    return new==string"
   ]
  },
  {
   "cell_type": "code",
   "execution_count": 3,
   "id": "0a43d7ec",
   "metadata": {},
   "outputs": [
    {
     "data": {
      "text/plain": [
       "True"
      ]
     },
     "execution_count": 3,
     "metadata": {},
     "output_type": "execute_result"
    }
   ],
   "source": [
    "palindromeCheck(string)"
   ]
  },
  {
   "cell_type": "code",
   "execution_count": 4,
   "id": "07560621",
   "metadata": {},
   "outputs": [],
   "source": [
    "# Approach: 2\n",
    "# T:O(n), S:O(n)   \n",
    "def palindromeCheck1(string):\n",
    "    newCharacters=[]\n",
    "    for i in range(len(string)):\n",
    "        newCharacters.append(string[i])\n",
    "    return ''.join(newCharacters)==string"
   ]
  },
  {
   "cell_type": "code",
   "execution_count": 5,
   "id": "a0d428df",
   "metadata": {},
   "outputs": [
    {
     "data": {
      "text/plain": [
       "True"
      ]
     },
     "execution_count": 5,
     "metadata": {},
     "output_type": "execute_result"
    }
   ],
   "source": [
    "palindromeCheck1(string)"
   ]
  },
  {
   "cell_type": "code",
   "execution_count": 6,
   "id": "bccb0fe7",
   "metadata": {},
   "outputs": [],
   "source": [
    "# Apprach:3 ......Recursive solution\n",
    "# T:O(n) , S:O(n)   \n",
    "# T:O(n) , S:O(1)   \n",
    "def isPalindrome(string,i=0):\n",
    "    j=len(string)-1-i\n",
    "    return True if i>=j else string[i]==string[j] and isPalindrome(string,i+1)\n",
    "\n",
    "def isPalindrome1(string,i=0):\n",
    "    j=len(string)-1-i\n",
    "    if i>=j:\n",
    "        return True\n",
    "    if string[i]!=string[j]:\n",
    "        return False\n",
    "    return isPalindrome(string,i+1)"
   ]
  },
  {
   "cell_type": "code",
   "execution_count": 7,
   "id": "ea00855b",
   "metadata": {},
   "outputs": [
    {
     "data": {
      "text/plain": [
       "True"
      ]
     },
     "execution_count": 7,
     "metadata": {},
     "output_type": "execute_result"
    }
   ],
   "source": [
    "isPalindrome(string)"
   ]
  },
  {
   "cell_type": "code",
   "execution_count": 8,
   "id": "0be39edb",
   "metadata": {},
   "outputs": [
    {
     "data": {
      "text/plain": [
       "True"
      ]
     },
     "execution_count": 8,
     "metadata": {},
     "output_type": "execute_result"
    }
   ],
   "source": [
    "isPalindrome1(string)"
   ]
  },
  {
   "cell_type": "code",
   "execution_count": 9,
   "id": "ae5705ac",
   "metadata": {},
   "outputs": [],
   "source": [
    "# Apprach:4 (Optimized Approach)\n",
    "# T:O(n) , S:O(1)\n",
    "def palindromeCheck2(string):\n",
    "    leftIdx=0\n",
    "    rightIdx=len(string)-1\n",
    "    while leftIdx<rightIdx:\n",
    "        if string[leftIdx]!=string[rightIdx]:\n",
    "            return False\n",
    "        leftIdx+=1\n",
    "        rightIdx-=1\n",
    "    return True"
   ]
  },
  {
   "cell_type": "code",
   "execution_count": 10,
   "id": "e62f4954",
   "metadata": {},
   "outputs": [
    {
     "data": {
      "text/plain": [
       "True"
      ]
     },
     "execution_count": 10,
     "metadata": {},
     "output_type": "execute_result"
    }
   ],
   "source": [
    "palindromeCheck2(string)"
   ]
  },
  {
   "cell_type": "code",
   "execution_count": null,
   "id": "b32b378b",
   "metadata": {},
   "outputs": [],
   "source": []
  },
  {
   "cell_type": "markdown",
   "id": "c4b414a5",
   "metadata": {},
   "source": [
    "# Longest Palindrome Substring (Medium)"
   ]
  },
  {
   "cell_type": "code",
   "execution_count": 11,
   "id": "34ec3fdb",
   "metadata": {},
   "outputs": [],
   "source": [
    "# T:O(n^2) S:O(n)  \n",
    "    currentLongest=[0,1]\n",
    "    for i in range(1,len(string)):\n",
    "        odd=getLongestPalindrome(string,i-1,i+1)\n",
    "        even=getLongestPalindrome(string,i-1,i)\n",
    "        longest=max(odd,even,key=lambda x:x[1]-x[0])\n",
    "        currentLongest=max(currentLongest,longest,key=lambda x:x[1]-x[0])\n",
    "    return string[currentLongest[0]:currentLongest[1]]\n",
    "\n",
    "def getLongestPalindrome(string,leftIdx,rightIdx):\n",
    "    while leftIdx>=0 and rightIdx<len(string):\n",
    "        if string[leftIdx]!=string[rightIdx]:\n",
    "            break\n",
    "        leftIdx-=1\n",
    "        rightIdx+=1\n",
    "    return [leftIdx+1,rightIdx]       "
   ]
  },
  {
   "cell_type": "code",
   "execution_count": 12,
   "id": "20f32328",
   "metadata": {},
   "outputs": [],
   "source": [
    "string=\"abaxyzzyxf\""
   ]
  },
  {
   "cell_type": "code",
   "execution_count": 13,
   "id": "c29d41fc",
   "metadata": {},
   "outputs": [
    {
     "data": {
      "text/plain": [
       "'xyzzyx'"
      ]
     },
     "execution_count": 13,
     "metadata": {},
     "output_type": "execute_result"
    }
   ],
   "source": [
    "longestPalindrome(string)"
   ]
  },
  {
   "cell_type": "code",
   "execution_count": null,
   "id": "06728dba",
   "metadata": {},
   "outputs": [],
   "source": []
  },
  {
   "cell_type": "markdown",
   "id": "f3dd49ce",
   "metadata": {},
   "source": [
    "# Longest Substring without Duplication (Difficult)"
   ]
  },
  {
   "cell_type": "code",
   "execution_count": 14,
   "id": "fbd6570e",
   "metadata": {},
   "outputs": [],
   "source": [
    "string=\"clementisaczbrap\""
   ]
  },
  {
   "cell_type": "code",
   "execution_count": 15,
   "id": "54e1382e",
   "metadata": {},
   "outputs": [],
   "source": [
    "# T:O(n) , S:O(min(n,a))\n",
    "def longestSubstringWithoutDuplication(string):\n",
    "    lastseen={}\n",
    "    longest=[0,1]\n",
    "    startIdx=0\n",
    "    for i,char in enumerate(string):\n",
    "        if char in lastseen:\n",
    "            startIdx=max(startIdx,lastseen[char]+1)\n",
    "        if longest[1]-longest[0]< (i+1)-startIdx:\n",
    "            longest=[startIdx,i+1]\n",
    "        lastseen[char]=i\n",
    "    return string[longest[0]:longest[1]]"
   ]
  },
  {
   "cell_type": "code",
   "execution_count": 16,
   "id": "a68903bb",
   "metadata": {},
   "outputs": [
    {
     "data": {
      "text/plain": [
       "'mentisaczbr'"
      ]
     },
     "execution_count": 16,
     "metadata": {},
     "output_type": "execute_result"
    }
   ],
   "source": [
    "longestSubstringWithoutDuplication(string)"
   ]
  },
  {
   "cell_type": "code",
   "execution_count": null,
   "id": "300d1f53",
   "metadata": {},
   "outputs": [],
   "source": []
  },
  {
   "cell_type": "markdown",
   "id": "c87ed993",
   "metadata": {},
   "source": [
    "# Caesar Cipher Encryptor (Easy)"
   ]
  },
  {
   "cell_type": "code",
   "execution_count": 17,
   "id": "45a5f8eb",
   "metadata": {},
   "outputs": [],
   "source": [
    "string=\"xyz\"\n",
    "key=2"
   ]
  },
  {
   "cell_type": "code",
   "execution_count": 18,
   "id": "ba0ba76c",
   "metadata": {},
   "outputs": [],
   "source": [
    "def caesarCipherEncryptor(string,key):\n",
    "    newLetters=[]\n",
    "    newKey=key%26\n",
    "    for letter in string:\n",
    "        newLetter=getNewAlphabet(letter,newKey)\n",
    "        newLetters.append(newLetter)\n",
    "    return ''.join(newLetters)\n",
    "\n",
    "def getNewAlphabet(letter,newKey):\n",
    "    number=ord(letter) + newKey\n",
    "    return chr(number) if number<=122 else chr(96+number%122)"
   ]
  },
  {
   "cell_type": "code",
   "execution_count": 19,
   "id": "17efb9b6",
   "metadata": {},
   "outputs": [
    {
     "data": {
      "text/plain": [
       "'zab'"
      ]
     },
     "execution_count": 19,
     "metadata": {},
     "output_type": "execute_result"
    }
   ],
   "source": [
    "caesarCipherEncryptor(string,key)"
   ]
  },
  {
   "cell_type": "code",
   "execution_count": null,
   "id": "4d337153",
   "metadata": {},
   "outputs": [],
   "source": []
  },
  {
   "cell_type": "markdown",
   "id": "61d7e789",
   "metadata": {},
   "source": [
    "# Group Anagrams (Medium)"
   ]
  },
  {
   "cell_type": "code",
   "execution_count": 20,
   "id": "74520c63",
   "metadata": {},
   "outputs": [],
   "source": [
    "string=[\"yo\", \"act\", \"flop\", \"tac\", \"foo\", \"cat\", \"oy\", \"olfp\"]"
   ]
  },
  {
   "cell_type": "code",
   "execution_count": 21,
   "id": "73948a79",
   "metadata": {},
   "outputs": [],
   "source": [
    "# Time: O(WNlogn), Space: O(WN)\n",
    "def groupOfANagrams(string):\n",
    "    hashTable={}\n",
    "    for word in string:\n",
    "        sortedWord=''.join(sorted(word))\n",
    "        if sortedWord in hashTable:\n",
    "            hashTable[sortedWord].append(word)\n",
    "        else:\n",
    "            hashTable[sortedWord]=[word]\n",
    "    return list(hashTable.values())"
   ]
  },
  {
   "cell_type": "code",
   "execution_count": 22,
   "id": "b549cc43",
   "metadata": {},
   "outputs": [
    {
     "data": {
      "text/plain": [
       "[['yo', 'oy'], ['act', 'tac', 'cat'], ['flop', 'olfp'], ['foo']]"
      ]
     },
     "execution_count": 22,
     "metadata": {},
     "output_type": "execute_result"
    }
   ],
   "source": [
    "groupOfANagrams(string)"
   ]
  },
  {
   "cell_type": "code",
   "execution_count": null,
   "id": "3e90df6c",
   "metadata": {},
   "outputs": [],
   "source": []
  },
  {
   "cell_type": "markdown",
   "id": "e504ddc9",
   "metadata": {},
   "source": [
    "# Run Length Encoding (Easy)"
   ]
  },
  {
   "cell_type": "code",
   "execution_count": 23,
   "id": "8e9d5ef6",
   "metadata": {},
   "outputs": [],
   "source": [
    "string=\"AAAAAAAAAAAAABBCCCCDD\""
   ]
  },
  {
   "cell_type": "code",
   "execution_count": 24,
   "id": "945a155b",
   "metadata": {},
   "outputs": [],
   "source": [
    "def runLengthEncoding(string):\n",
    "    encodedList=[]\n",
    "    currentLength=1\n",
    "    for i in range(1,len(string)):\n",
    "        currentWord=string[i]\n",
    "        previousWord=string[i-1]\n",
    "        if currentWord!=previousWord or currentLength==9:\n",
    "            encodedList.append(str(currentLength))\n",
    "            encodedList.append(previousWord)\n",
    "            currentLength=0\n",
    "        currentLength+=1\n",
    "    encodedList.append(str(currentLength))\n",
    "    encodedList.append(string[(len(string)-1)])\n",
    "    return ''.join(encodedList)"
   ]
  },
  {
   "cell_type": "code",
   "execution_count": 25,
   "id": "93f46f3a",
   "metadata": {},
   "outputs": [
    {
     "data": {
      "text/plain": [
       "'9A4A2B4C2D'"
      ]
     },
     "execution_count": 25,
     "metadata": {},
     "output_type": "execute_result"
    }
   ],
   "source": [
    "runLengthEncoding(string)"
   ]
  },
  {
   "cell_type": "code",
   "execution_count": null,
   "id": "9567ae7e",
   "metadata": {},
   "outputs": [],
   "source": []
  },
  {
   "cell_type": "markdown",
   "id": "ad0b42da",
   "metadata": {},
   "source": [
    "# Valid IP Addresses (Medium)"
   ]
  },
  {
   "cell_type": "code",
   "execution_count": 26,
   "id": "3663c63e",
   "metadata": {},
   "outputs": [],
   "source": [
    "string=\"1921680\""
   ]
  },
  {
   "cell_type": "code",
   "execution_count": 27,
   "id": "8f790e2e",
   "metadata": {},
   "outputs": [],
   "source": [
    "string1=\"192.168@1.1\""
   ]
  },
  {
   "cell_type": "code",
   "execution_count": 28,
   "id": "ba220e53",
   "metadata": {},
   "outputs": [],
   "source": [
    "# Time: O(1), Space: O(1)   \n",
    "def validIPAdresses(string):\n",
    "    ipAddressFound=[]\n",
    "    for i in range(1,min(len(string),4)):\n",
    "        currentIpAddress=['','','','']\n",
    "        currentIpAddress[0]=string[:i]\n",
    "        if not isValid(currentIpAddress[0]):\n",
    "            continue\n",
    "        for j in range(i+1,min(len(string),i+4)):\n",
    "            currentIpAddress[1]=string[i:j]\n",
    "            if not isValid(currentIpAddress[1]):\n",
    "                continue\n",
    "            for k in range(j+1,min(len(string),j+4)):\n",
    "                currentIpAddress[2]=string[j:k]\n",
    "                currentIpAddress[3]=string[k:]\n",
    "                if isValid(currentIpAddress[2]) and isValid(currentIpAddress[3]):\n",
    "                    ipAddressFound.append('.'.join(currentIpAddress))\n",
    "    return ipAddressFound\n",
    "\n",
    "def isValid(string):\n",
    "    stringAsInt=int(string)\n",
    "    if stringAsInt<0 or stringAsInt>255:\n",
    "        return False\n",
    "    return len(str(stringAsInt))==len(string)"
   ]
  },
  {
   "cell_type": "code",
   "execution_count": 29,
   "id": "84fa3a51",
   "metadata": {},
   "outputs": [
    {
     "data": {
      "text/plain": [
       "['1.9.216.80',\n",
       " '1.92.16.80',\n",
       " '1.92.168.0',\n",
       " '19.2.16.80',\n",
       " '19.2.168.0',\n",
       " '19.21.6.80',\n",
       " '19.21.68.0',\n",
       " '19.216.8.0',\n",
       " '192.1.6.80',\n",
       " '192.1.68.0',\n",
       " '192.16.8.0']"
      ]
     },
     "execution_count": 29,
     "metadata": {},
     "output_type": "execute_result"
    }
   ],
   "source": [
    "validIPAdresses(string)"
   ]
  },
  {
   "cell_type": "code",
   "execution_count": null,
   "id": "8167bbb7",
   "metadata": {},
   "outputs": [],
   "source": []
  },
  {
   "cell_type": "markdown",
   "id": "8fbcd477",
   "metadata": {},
   "source": [
    "# Underscorify Substring (Difficult)"
   ]
  },
  {
   "cell_type": "code",
   "execution_count": 30,
   "id": "2e0ed9a2",
   "metadata": {},
   "outputs": [],
   "source": [
    "string=\"testthis is a testtest to see if testestest it works\"\n",
    "substring='test'"
   ]
  },
  {
   "cell_type": "code",
   "execution_count": 31,
   "id": "e628cf41",
   "metadata": {},
   "outputs": [],
   "source": [
    "# Space: O(N) and Time: O(N)\n",
    "def underScorify(string,substring):\n",
    "    locations=updateLocation(getLocations(string,substring))\n",
    "    return puttingUnderScores(locations,string)\n",
    "\n",
    "def getLocations(string,substring):\n",
    "    locations=[]\n",
    "    startIdx=0\n",
    "    while startIdx<len(string) :\n",
    "        nextIdx=string.find(substring,startIdx)\n",
    "        if nextIdx!=-1:\n",
    "            locations.append([nextIdx,nextIdx+len(substring)])\n",
    "            startIdx=nextIdx+1\n",
    "        else:\n",
    "            break\n",
    "    return locations \n",
    "\n",
    "def updateLocation(locations):\n",
    "    if locations ==-1:\n",
    "        return locations\n",
    "    newLocation=[locations[0]]\n",
    "    previous=newLocation[0]\n",
    "    for i in range(1,len(locations)):\n",
    "        current=locations[i]\n",
    "        if current[0]<=previous[1]:\n",
    "            previous[1]=current[1]\n",
    "        else:\n",
    "            newLocation.append(current)\n",
    "            previous=current\n",
    "    return newLocation\n",
    "            \n",
    "def puttingUnderScores(locations,string):\n",
    "    locationIdx=0\n",
    "    stringIdx=0\n",
    "    finalChar=[]\n",
    "    inBetweenChar=False\n",
    "    i=0\n",
    "    while stringIdx<len(string) and locationIdx<len(locations):\n",
    "        if stringIdx==locations[locationIdx][i]:\n",
    "            finalChar.append('_')\n",
    "            inBetweenChar=not inBetweenChar\n",
    "            if not inBetweenChar:\n",
    "                locationIdx+=1\n",
    "            i=0 if i==1 else 1\n",
    "        finalChar.append(string[stringIdx])\n",
    "        stringIdx+=1\n",
    "    if locationIdx<len(locations):\n",
    "        finalChar.append('_')\n",
    "    if stringIdx<len(string):\n",
    "        finalChar.append(string[stringIdx:])\n",
    "    return ''.join(finalChar)"
   ]
  },
  {
   "cell_type": "code",
   "execution_count": 32,
   "id": "9f87d0d1",
   "metadata": {},
   "outputs": [
    {
     "data": {
      "text/plain": [
       "'_test_ this is a _test_ to see if it works'"
      ]
     },
     "execution_count": 32,
     "metadata": {},
     "output_type": "execute_result"
    }
   ],
   "source": [
    "string=\"test this is a test to see if it works\"\n",
    "substring='test'\n",
    "underScorify(string,substring)"
   ]
  },
  {
   "cell_type": "code",
   "execution_count": null,
   "id": "a0b797d7",
   "metadata": {},
   "outputs": [],
   "source": []
  },
  {
   "cell_type": "markdown",
   "id": "b7f990b1",
   "metadata": {},
   "source": [
    "# Generate Document (Easy)"
   ]
  },
  {
   "cell_type": "code",
   "execution_count": 33,
   "id": "6da6ec5f",
   "metadata": {},
   "outputs": [],
   "source": [
    "characters=\"Bste!hetsi ogEAxpelrt x \"\n",
    "document=\"AlgoExpert is the Best!\""
   ]
  },
  {
   "cell_type": "code",
   "execution_count": 34,
   "id": "5d43be6b",
   "metadata": {},
   "outputs": [],
   "source": [
    "# Optimized Space: O(C) Time: O(N+M)   -----where C is unique characters nad N,M is length of characters and document\n",
    "def generateDocument(characters,document):\n",
    "    seenCount={}\n",
    "    for character in characters:\n",
    "        if character not in seenCount:\n",
    "            seenCount[character]=0\n",
    "        seenCount[character]+=1\n",
    "    for character in document:\n",
    "        if character not in seenCount or seenCount[character]==0:\n",
    "            return False\n",
    "        seenCount[character]-=1\n",
    "    return True"
   ]
  },
  {
   "cell_type": "code",
   "execution_count": 35,
   "id": "0d09c5be",
   "metadata": {},
   "outputs": [
    {
     "data": {
      "text/plain": [
       "True"
      ]
     },
     "execution_count": 35,
     "metadata": {},
     "output_type": "execute_result"
    }
   ],
   "source": [
    "generateDocument(characters,document)"
   ]
  },
  {
   "cell_type": "code",
   "execution_count": null,
   "id": "be28d153",
   "metadata": {},
   "outputs": [],
   "source": []
  },
  {
   "cell_type": "markdown",
   "id": "ba7fcffb",
   "metadata": {},
   "source": [
    "# Reverse Word String (Medium)"
   ]
  },
  {
   "cell_type": "code",
   "execution_count": 36,
   "id": "320fe139",
   "metadata": {},
   "outputs": [],
   "source": [
    "string=\"AlgoExpert is the best!\""
   ]
  },
  {
   "cell_type": "code",
   "execution_count": 37,
   "id": "04f12bce",
   "metadata": {},
   "outputs": [],
   "source": [
    "def reverseWordString(string):\n",
    "    word=[]\n",
    "    startOfWord=0\n",
    "    for i in range(0,len(string)):\n",
    "        if string[i]==' ':\n",
    "            word.append(string[startOfWord:i])\n",
    "            startOfWord=i\n",
    "        elif string[startOfWord]==' ':\n",
    "            word.append(' ')\n",
    "            startOfWord=i\n",
    "    word.append(string[startOfWord:])\n",
    "    reverse(word)\n",
    "    return ''.join(word)\n",
    "\n",
    "\n",
    "def reverse(char):\n",
    "    startIdx,endIdx=0,len(char)-1\n",
    "    while startIdx<endIdx:\n",
    "        char[startIdx],char[endIdx]=char[endIdx],char[startIdx]\n",
    "        startIdx+=1\n",
    "        endIdx-=1\n",
    "    "
   ]
  },
  {
   "cell_type": "code",
   "execution_count": 38,
   "id": "bd0795db",
   "metadata": {},
   "outputs": [
    {
     "data": {
      "text/plain": [
       "'best! the is AlgoExpert'"
      ]
     },
     "execution_count": 38,
     "metadata": {},
     "output_type": "execute_result"
    }
   ],
   "source": [
    "reverseWordString(string)"
   ]
  },
  {
   "cell_type": "code",
   "execution_count": null,
   "id": "e3aa2fe7",
   "metadata": {},
   "outputs": [],
   "source": []
  },
  {
   "cell_type": "markdown",
   "id": "5ae08bec",
   "metadata": {},
   "source": [
    "# Pattern Matcher (Difficult)"
   ]
  },
  {
   "cell_type": "code",
   "execution_count": 212,
   "id": "727094e4",
   "metadata": {},
   "outputs": [],
   "source": [
    "pattern=\"xxyxxy\"\n",
    "string=\"gogopowerrangergogopowerranger\""
   ]
  },
  {
   "cell_type": "code",
   "execution_count": 213,
   "id": "11662091",
   "metadata": {},
   "outputs": [],
   "source": [
    "# time: O(N^2+M), Space: O(N+M)\n",
    "def patternMatcher(pattern, string):\n",
    "    if len(string)<len(pattern):\n",
    "        return []\n",
    "    newPattern=getNewPattern(pattern)\n",
    "    didSwitch=newPattern[0]!=pattern[0]\n",
    "    counts={\"x\":0,\"y\":0}\n",
    "    firstYPosition=getCountsAndFirstYPosition(newPattern,counts)\n",
    "    if counts[\"y\"]!=0:\n",
    "        for XLen in range(1,len(string)):\n",
    "            YLen=(len(string)-(counts[\"x\"]*XLen))/counts[\"y\"]\n",
    "            if YLen<=0 or YLen%1!=0:\n",
    "                continue\n",
    "            else:\n",
    "                YLen=int(YLen)\n",
    "                yIdx=firstYPosition*XLen\n",
    "                x=string[:XLen]\n",
    "                y=string[yIdx:yIdx+YLen]\n",
    "                potentialMatcher=map(lambda char: x if char==\"x\" else y,newPattern)\n",
    "                if string==\"\".join(potentialMatcher):\n",
    "                    return [x,y] if not didSwitch else [y,x]\n",
    "    else:\n",
    "        XLen=len(string)/counts[\"x\"]\n",
    "        if XLen%1==0:\n",
    "            XLen=int(XLen)\n",
    "            x=string[:XLen]\n",
    "            potentialMatcher=map(lambda char:x , newPattern)\n",
    "            if string==\"\".join(potentialMatcher):\n",
    "                return [x,\"\"] if not didSwitch else [\"\",x]\n",
    "    return []\n",
    "\n",
    "\n",
    "\n",
    "def getNewPattern(pattern):\n",
    "    patternLetters=list(pattern)\n",
    "    if patternLetters[0]==\"x\":\n",
    "        return patternLetters\n",
    "    else:\n",
    "        return list(map(lambda char:\"x\" if char==\"y\" else \"y\",patternLetters))\n",
    "    \n",
    "def getCountsAndFirstYPosition(pattern,counts):\n",
    "    firstYPosition=None\n",
    "    for i,char in enumerate(pattern):\n",
    "        counts[char]+=1\n",
    "        if char==\"y\" and firstYPosition is None:\n",
    "            firstYPosition=i\n",
    "    return firstYPosition"
   ]
  },
  {
   "cell_type": "code",
   "execution_count": 214,
   "id": "7ec1d777",
   "metadata": {},
   "outputs": [
    {
     "data": {
      "text/plain": [
       "['go', 'powerranger']"
      ]
     },
     "execution_count": 214,
     "metadata": {},
     "output_type": "execute_result"
    }
   ],
   "source": [
    "patternMatcher(pattern, string)"
   ]
  },
  {
   "cell_type": "code",
   "execution_count": 206,
   "id": "2e50428e",
   "metadata": {},
   "outputs": [],
   "source": [
    "# Leetcode Sum\n",
    "# Similar so solved\n",
    "def wordPattern(pattern, s):\n",
    "    li = s.split(' ')\n",
    "    di = {}\n",
    "    if len(li) != len(pattern):\n",
    "        return False\n",
    "\n",
    "    for i, val in enumerate(pattern):\n",
    "        if val in di and di[val] != li[i]:\n",
    "            return False\n",
    "        elif val not in di and li[i] in di.values():\n",
    "            return False\n",
    "        elif val not in di:\n",
    "            di[val] = li[i]\n",
    "\n",
    "    return di"
   ]
  },
  {
   "cell_type": "code",
   "execution_count": 202,
   "id": "8bc5aa2e",
   "metadata": {},
   "outputs": [],
   "source": [
    "pattern1 = \"abba\"\n",
    "s1 = \"dog cat cat dog\""
   ]
  },
  {
   "cell_type": "code",
   "execution_count": null,
   "id": "c4f2e41d",
   "metadata": {},
   "outputs": [],
   "source": [
    "wordPattern(pattern1, s1)"
   ]
  },
  {
   "cell_type": "code",
   "execution_count": null,
   "id": "170473be",
   "metadata": {},
   "outputs": [],
   "source": []
  },
  {
   "cell_type": "markdown",
   "id": "bb3f6542",
   "metadata": {},
   "source": [
    "# Smallest Substring Containing (Very Difficult)"
   ]
  },
  {
   "cell_type": "code",
   "execution_count": 257,
   "id": "a78de36b",
   "metadata": {},
   "outputs": [],
   "source": [
    "bigString=\"abcd$ef$axb$c$\"\n",
    "smallString=\"$$abf\""
   ]
  },
  {
   "cell_type": "code",
   "execution_count": 258,
   "id": "bcaa09b7",
   "metadata": {},
   "outputs": [],
   "source": [
    "def smallestSubstringContaining(bigString,smallString):\n",
    "    targetCharCounts=getCountSmallString(smallString)\n",
    "    print(targetCharCounts)\n",
    "    getSubStringBounds=getStringBounds(bigString,targetCharCounts)\n",
    "    print(getSubStringBounds)\n",
    "    return getSubString(bigString,getSubStringBounds)\n",
    "\n",
    "\n",
    "def getCountSmallString(string):\n",
    "    countSmallString={}\n",
    "    for char in string:\n",
    "        increasing(char,countSmallString)\n",
    "    return countSmallString\n",
    "\n",
    "\n",
    "def getStringBounds(bigString,targetCounts):\n",
    "    subStringBounds=[0,float(\"inf\")]\n",
    "    countSubstring={}\n",
    "    uniqueCharsString=len(targetCounts.keys())\n",
    "    uniqueCharsDone=0\n",
    "    leftIdx=0\n",
    "    rightIdx=0\n",
    "    \n",
    "    while rightIdx<len(bigString):\n",
    "        rightChar=bigString[rightIdx]\n",
    "        if rightChar not in targetCounts:\n",
    "            rightIdx+=1\n",
    "            continue\n",
    "        increasing(rightChar,countSubstring)\n",
    "        if countSubstring[rightChar]==targetCounts[rightChar]:\n",
    "            uniqueCharsDone+=1\n",
    "        \n",
    "        while uniqueCharsDone==uniqueCharsString and leftIdx<=rightIdx:\n",
    "            subStringBounds=getCloserBounds(leftIdx,rightIdx,subStringBounds[0],subStringBounds[1])\n",
    "            leftChar=bigString[leftIdx]\n",
    "            if leftChar not in countSubstring:\n",
    "                leftIdx+=1\n",
    "                continue\n",
    "            if countSubstring[leftChar]==targetCounts[leftChar]:\n",
    "                uniqueCharsDone-=1\n",
    "            decreasing(leftChar,countSubstring)\n",
    "            leftIdx+=1\n",
    "        rightIdx+=1\n",
    "    return subStringBounds\n",
    "\n",
    "\n",
    "def getCloserBounds(idx1,idx2,idx3,idx4):\n",
    "    return [idx1,idx2] if idx2-idx1 < idx4-idx3 else [idx3,idx4]\n",
    "\n",
    "def getSubString(string,stringBound):\n",
    "    start,end=stringBound\n",
    "    if end==float(\"inf\"):\n",
    "        return \"\"\n",
    "    return string[start:end+1]\n",
    "\n",
    "\n",
    "def increasing(char,countSmallString):\n",
    "    if char not in countSmallString:\n",
    "        countSmallString[char]=0\n",
    "    countSmallString[char]+=1\n",
    "    \n",
    "def decreasing(char,countSmallString):\n",
    "    countSmallString[char]-=1"
   ]
  },
  {
   "cell_type": "code",
   "execution_count": 259,
   "id": "05a9ef41",
   "metadata": {},
   "outputs": [
    {
     "name": "stdout",
     "output_type": "stream",
     "text": [
      "{'$': 2, 'a': 1, 'b': 1, 'f': 1}\n",
      "[6, 11]\n"
     ]
    },
    {
     "data": {
      "text/plain": [
       "'f$axb$'"
      ]
     },
     "execution_count": 259,
     "metadata": {},
     "output_type": "execute_result"
    }
   ],
   "source": [
    "smallestSubstringContaining(bigString,smallString)"
   ]
  },
  {
   "cell_type": "code",
   "execution_count": null,
   "id": "5b3a0861",
   "metadata": {},
   "outputs": [],
   "source": []
  },
  {
   "cell_type": "markdown",
   "id": "7d263f1c",
   "metadata": {},
   "source": [
    "# Longest Valid Parentheses"
   ]
  },
  {
   "cell_type": "code",
   "execution_count": 5,
   "id": "66a25a14",
   "metadata": {},
   "outputs": [],
   "source": [
    "string=\"(()))(\""
   ]
  },
  {
   "cell_type": "code",
   "execution_count": 10,
   "id": "b661d507",
   "metadata": {},
   "outputs": [],
   "source": [
    "# Brute force approach \n",
    "# Time: O(N^3), Space:O(N)\n",
    "def longestValidParenthesis(string):\n",
    "    maxLength=0\n",
    "    \n",
    "    for i in range(len(string)):\n",
    "        for j in range(2,len(string)+1,2):\n",
    "            if isBalanced(string[i:j]):\n",
    "                currentLength=j-i\n",
    "                maxLength=max(currentLength,maxLength)\n",
    "    return maxLength\n",
    "\n",
    "def isBalanced(string):\n",
    "    openParensStack=[]\n",
    "    \n",
    "    for char in string:\n",
    "        if char==\"(\":\n",
    "            openParensStack.append(char)\n",
    "        elif len(openParensStack)>0:\n",
    "            openParensStack.pop()\n",
    "        else:\n",
    "            return False\n",
    "    return len(openParensStack)==0"
   ]
  },
  {
   "cell_type": "code",
   "execution_count": 11,
   "id": "7099bcaa",
   "metadata": {},
   "outputs": [
    {
     "data": {
      "text/plain": [
       "4"
      ]
     },
     "execution_count": 11,
     "metadata": {},
     "output_type": "execute_result"
    }
   ],
   "source": [
    "longestValidParenthesis(string)"
   ]
  },
  {
   "cell_type": "code",
   "execution_count": 46,
   "id": "c29536ba",
   "metadata": {},
   "outputs": [],
   "source": [
    "string=\"(()))((()))(\""
   ]
  },
  {
   "cell_type": "code",
   "execution_count": 47,
   "id": "d03cb69a",
   "metadata": {},
   "outputs": [],
   "source": [
    "# Optimised Approach\n",
    "def longestValidParenthesis_optimised(string):\n",
    "    maxLength=0\n",
    "    opening=0\n",
    "    closing=0\n",
    "    \n",
    "    for char in string:\n",
    "        if char==\"(\":\n",
    "            opening+=1\n",
    "        else:\n",
    "            closing+=1\n",
    "            \n",
    "        if opening==closing:\n",
    "            maxLength=max(maxLength,opening+closing)\n",
    "        elif closing>opening:\n",
    "            opening=0\n",
    "            closing=0\n",
    "        \n",
    "     \n",
    "    opening=0\n",
    "    closing=0\n",
    "    for i in reversed(range(len(string))):\n",
    "        char=string[i]\n",
    "        \n",
    "        if char==\"(\":\n",
    "            opening+=1\n",
    "        else:\n",
    "            closing+=1\n",
    "            \n",
    "        if opening==closing:\n",
    "            maxLength=max(maxLength,opening+closing)\n",
    "        elif opening>closing:\n",
    "            opening=0\n",
    "            closing=0\n",
    "            \n",
    "    return maxLength\n",
    "             "
   ]
  },
  {
   "cell_type": "code",
   "execution_count": 48,
   "id": "f3acfd88",
   "metadata": {},
   "outputs": [
    {
     "data": {
      "text/plain": [
       "6"
      ]
     },
     "execution_count": 48,
     "metadata": {},
     "output_type": "execute_result"
    }
   ],
   "source": [
    "longestValidParenthesis_optimised(string)"
   ]
  },
  {
   "cell_type": "code",
   "execution_count": 16,
   "id": "0305d4a6",
   "metadata": {},
   "outputs": [
    {
     "data": {
      "text/plain": [
       "['c', 'd']"
      ]
     },
     "execution_count": 16,
     "metadata": {},
     "output_type": "execute_result"
    }
   ],
   "source": [
    "a"
   ]
  },
  {
   "cell_type": "code",
   "execution_count": null,
   "id": "ccb8f6c3",
   "metadata": {},
   "outputs": [],
   "source": []
  },
  {
   "cell_type": "markdown",
   "id": "64026a0b",
   "metadata": {},
   "source": [
    "# First Non-Repeating Character"
   ]
  },
  {
   "cell_type": "code",
   "execution_count": 49,
   "id": "a4d3f27c",
   "metadata": {},
   "outputs": [],
   "source": [
    "string=\"abcdcaf\""
   ]
  },
  {
   "cell_type": "code",
   "execution_count": 145,
   "id": "6d871369",
   "metadata": {},
   "outputs": [],
   "source": [
    "def firstNonRepeatingCharacter(string):\n",
    "    charTable=getCharAndCount(string)\n",
    "    return firstCharacter(charTable,string)\n",
    "    \n",
    "def getCharAndCount(string):\n",
    "    seenCharCount={}\n",
    "    for i in range(len(string)):\n",
    "        char=string[i]\n",
    "        if char not in seenCharCount:\n",
    "            seenCharCount[char]=0\n",
    "        seenCharCount[char]+=1\n",
    "    return seenCharCount\n",
    "\n",
    "def firstCharacter(charTable,string):\n",
    "    for i in range(len(string)):\n",
    "        char=string[i]\n",
    "        if charTable[char]==1:\n",
    "            return i\n",
    "    return -1"
   ]
  },
  {
   "cell_type": "code",
   "execution_count": 146,
   "id": "c9559d17",
   "metadata": {},
   "outputs": [
    {
     "name": "stdout",
     "output_type": "stream",
     "text": [
      "{'a': 2, 'b': 1, 'c': 2, 'd': 1, 'f': 1}\n"
     ]
    },
    {
     "data": {
      "text/plain": [
       "1"
      ]
     },
     "execution_count": 146,
     "metadata": {},
     "output_type": "execute_result"
    }
   ],
   "source": [
    "firstNonRepeatingCharacter(string)"
   ]
  },
  {
   "cell_type": "code",
   "execution_count": 138,
   "id": "88549aac",
   "metadata": {},
   "outputs": [],
   "source": [
    "s=\"abcab\""
   ]
  },
  {
   "cell_type": "code",
   "execution_count": 141,
   "id": "618c2b46",
   "metadata": {},
   "outputs": [],
   "source": [
    "#  Time: O(N) , Space: O(1)\n",
    "\n",
    "def firstUniqChar(s):\n",
    "    charTable=getCharAndCount(s)\n",
    "    print(charTable)\n",
    "    return firstCharacter(charTable,s)\n",
    "\n",
    "def getCharAndCount(s):\n",
    "    seenCharCount={}\n",
    "    for i in range(len(s)):\n",
    "        char=s[i]\n",
    "        if char not in seenCharCount:\n",
    "            seenCharCount[char]=0\n",
    "        seenCharCount[char]+=1\n",
    "    return seenCharCount\n",
    "\n",
    "def firstCharacter(charTable,s):\n",
    "    for i in range(len(s)):\n",
    "        char=s[i]\n",
    "        if charTable[char]==1:\n",
    "            return i\n",
    "    return -1"
   ]
  },
  {
   "cell_type": "code",
   "execution_count": 142,
   "id": "0c09a81f",
   "metadata": {},
   "outputs": [
    {
     "name": "stdout",
     "output_type": "stream",
     "text": [
      "{'a': 2, 'b': 2}\n"
     ]
    },
    {
     "data": {
      "text/plain": [
       "-1"
      ]
     },
     "execution_count": 142,
     "metadata": {},
     "output_type": "execute_result"
    }
   ],
   "source": [
    "firstUniqChar(s)"
   ]
  },
  {
   "cell_type": "code",
   "execution_count": null,
   "id": "f7de994c",
   "metadata": {},
   "outputs": [],
   "source": []
  },
  {
   "cell_type": "markdown",
   "id": "2e1a07e4",
   "metadata": {},
   "source": [
    "# Minimum Characters For Words"
   ]
  },
  {
   "cell_type": "code",
   "execution_count": 171,
   "id": "39f9e2e4",
   "metadata": {},
   "outputs": [],
   "source": [
    "words=[\"this\", \"that\", \"did\", \"deed\", \"them!\", \"a\"]"
   ]
  },
  {
   "cell_type": "code",
   "execution_count": 176,
   "id": "09641ddb",
   "metadata": {},
   "outputs": [],
   "source": [
    "# Time: O(n*L)  Space: O(C) ---where n is number of words, l is length of the longest word,\n",
    "#  and c is the number of unique characters across all words\n",
    "def minCharactersForWords(words):\n",
    "    maxFrequency={}\n",
    "    \n",
    "    for word in words:\n",
    "        charCount=getCharCountForWord(word)\n",
    "        updateMaxFrequency(charCount,maxFrequency)\n",
    "        \n",
    "    return getArrayOfChar(maxFrequency)\n",
    "\n",
    "\n",
    "def getCharCountForWord(string):\n",
    "    charCountForWord={}\n",
    "    for char in string:\n",
    "        if char not in charCountForWord:\n",
    "            charCountForWord[char]=0\n",
    "        charCountForWord[char]+=1\n",
    "    return charCountForWord\n",
    "\n",
    "def updateMaxFrequency(charCount,maxFrequency):\n",
    "    for char in charCount:\n",
    "        frequency=charCount[char]\n",
    "        if char not in maxFrequency:\n",
    "            maxFrequency[char]=frequency\n",
    "        else:\n",
    "            maxFrequency[char]=max(frequency,maxFrequency[char])\n",
    "\n",
    "def getArrayOfChar(maxFrequency):\n",
    "    array=[]\n",
    "    for char in maxFrequency:\n",
    "        frequency=maxFrequency[char]\n",
    "        \n",
    "        for _ in range (frequency):\n",
    "            array.append(char)\n",
    "    return array\n",
    "    \n",
    "        "
   ]
  },
  {
   "cell_type": "code",
   "execution_count": 177,
   "id": "181be7a6",
   "metadata": {},
   "outputs": [
    {
     "data": {
      "text/plain": [
       "['t', 't', 'h', 'i', 's', 'a', 'd', 'd', 'e', 'e', 'm', '!']"
      ]
     },
     "execution_count": 177,
     "metadata": {},
     "output_type": "execute_result"
    }
   ],
   "source": [
    "minCharactersForWords(words)"
   ]
  },
  {
   "cell_type": "code",
   "execution_count": null,
   "id": "40fcb492",
   "metadata": {},
   "outputs": [],
   "source": []
  }
 ],
 "metadata": {
  "kernelspec": {
   "display_name": "Python 3 (ipykernel)",
   "language": "python",
   "name": "python3"
  },
  "language_info": {
   "codemirror_mode": {
    "name": "ipython",
    "version": 3
   },
   "file_extension": ".py",
   "mimetype": "text/x-python",
   "name": "python",
   "nbconvert_exporter": "python",
   "pygments_lexer": "ipython3",
   "version": "3.8.13"
  }
 },
 "nbformat": 4,
 "nbformat_minor": 5
}
