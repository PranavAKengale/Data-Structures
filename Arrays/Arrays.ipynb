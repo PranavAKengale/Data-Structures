{
 "cells": [
  {
   "cell_type": "markdown",
   "id": "bba9c0e2",
   "metadata": {},
   "source": [
    "# Two Sum"
   ]
  },
  {
   "cell_type": "code",
   "execution_count": 1,
   "id": "bd4c03b0",
   "metadata": {},
   "outputs": [],
   "source": [
    "#  Normal Approach\n",
    "def twoSum1(array,target):\n",
    "        for i in range(len(nums)-1):\n",
    "            for j in range(i+1,len(nums)):\n",
    "                if nums[i]+nums[j]==target:\n",
    "                    return [i,j]\n",
    "        return []    "
   ]
  },
  {
   "cell_type": "code",
   "execution_count": 2,
   "id": "03b67a55",
   "metadata": {},
   "outputs": [],
   "source": [
    "# Optimized\n",
    "def twoSum1(array,target):\n",
    "    array.sort()\n",
    "    left=0\n",
    "    right=len(array)-1\n",
    "    while left<right:\n",
    "        currentSum=array[left]+array[right]\n",
    "        if currentSum==target:\n",
    "            return [left,right]\n",
    "        elif currentSum<target:\n",
    "            left+=1\n",
    "        elif currentSum>target:\n",
    "            right-=1\n",
    "    return []"
   ]
  },
  {
   "cell_type": "code",
   "execution_count": 3,
   "id": "97c4f0cf",
   "metadata": {},
   "outputs": [],
   "source": [
    "#  3rd approach (Hash Table)\n",
    "def TwoSum1(nums,target):\n",
    "    array={}\n",
    "    for num in nums:\n",
    "        if target-num in array:\n",
    "            match=target-num\n",
    "            return nums.index(match),nums.index(num)\n",
    "        else:\n",
    "            array[num]=True\n",
    "    return []"
   ]
  },
  {
   "cell_type": "code",
   "execution_count": null,
   "id": "f79c88dd",
   "metadata": {},
   "outputs": [],
   "source": []
  },
  {
   "cell_type": "markdown",
   "id": "12fa8b75",
   "metadata": {},
   "source": [
    "# Validate Subsequence"
   ]
  },
  {
   "cell_type": "code",
   "execution_count": 4,
   "id": "f8125ea4",
   "metadata": {},
   "outputs": [],
   "source": [
    "# Time=O(N) and space=O(1)\n",
    "def validSeq(array,seq):\n",
    "    i=0\n",
    "    j=0\n",
    "    while i<len(seq) and j<len(array):\n",
    "        if seq[i]==array[j]:\n",
    "            i+=1\n",
    "        j+=1\n",
    "    return True if i==len(seq) else False"
   ]
  },
  {
   "cell_type": "code",
   "execution_count": 5,
   "id": "819d9e9d",
   "metadata": {},
   "outputs": [],
   "source": [
    "array=[1,2,3,4,5,6]\n",
    "sequence=[6,3,5]"
   ]
  },
  {
   "cell_type": "code",
   "execution_count": 6,
   "id": "4d97f984",
   "metadata": {},
   "outputs": [
    {
     "data": {
      "text/plain": [
       "False"
      ]
     },
     "execution_count": 6,
     "metadata": {},
     "output_type": "execute_result"
    }
   ],
   "source": [
    "validSeq(array, sequence)"
   ]
  },
  {
   "cell_type": "markdown",
   "id": "df25fa64",
   "metadata": {},
   "source": [
    "# Sorted Square Error"
   ]
  },
  {
   "cell_type": "code",
   "execution_count": 7,
   "id": "b821f926",
   "metadata": {},
   "outputs": [],
   "source": [
    "# Time=O(N) and space=O(1) or O(N)\n",
    "def square(array):\n",
    "    num=[]\n",
    "    l,r=0,len(array)-1\n",
    "    while l<=r:\n",
    "        if array[l]*array[l]>array[r]*array[r]:\n",
    "            num.append(array[l]*array[l])\n",
    "            l+=1\n",
    "        else:\n",
    "            num.append(array[r]*array[r])\n",
    "            r-=1\n",
    "    return num[::-1]"
   ]
  },
  {
   "cell_type": "code",
   "execution_count": 8,
   "id": "12ad08f4",
   "metadata": {},
   "outputs": [
    {
     "data": {
      "text/plain": [
       "[1, 4, 9, 16, 25, 36]"
      ]
     },
     "execution_count": 8,
     "metadata": {},
     "output_type": "execute_result"
    }
   ],
   "source": [
    "square(array)"
   ]
  },
  {
   "cell_type": "code",
   "execution_count": 9,
   "id": "12682aa1",
   "metadata": {},
   "outputs": [],
   "source": [
    "array=[-3,-2,-1,0,1,2,3,4]"
   ]
  },
  {
   "cell_type": "markdown",
   "id": "a0d0cca1",
   "metadata": {},
   "source": [
    "# Tournament Winner"
   ]
  },
  {
   "cell_type": "code",
   "execution_count": 10,
   "id": "d10f6380",
   "metadata": {},
   "outputs": [],
   "source": [
    "Home_team_won=1\n",
    "def tournamentWinner(competitions,results):\n",
    "    currentBestTeam=\"\"\n",
    "    scores={currentBestTeam :0}\n",
    "    \n",
    "    for idx,competition in enumerate(competitions):\n",
    "        result=results[idx]\n",
    "        hometeam, awayteam=competition\n",
    "        \n",
    "        winningTeam = hometeam if result==Home_team_won else awayteam\n",
    "        \n",
    "        updateScores(winningTeam,3,scores)\n",
    "        if scores[winningTeam]>scores[currentBestTeam]:\n",
    "            currentBestTeam=winningTeam\n",
    "            \n",
    "    return currentBestTeam\n",
    "\n",
    "def updateScores(team,points,scores):\n",
    "    if team not in scores:\n",
    "        scores[team]=0\n",
    "    scores[team]+=points"
   ]
  },
  {
   "cell_type": "code",
   "execution_count": 11,
   "id": "51a8aac3",
   "metadata": {},
   "outputs": [],
   "source": [
    "competitions=[[\"Html\",\"C#\"],\n",
    "              [\"C#\",\"Python\"],\n",
    "              [\"Python\",\"Html\"]]\n",
    "results=[0,0,1]"
   ]
  },
  {
   "cell_type": "code",
   "execution_count": 12,
   "id": "d51dc176",
   "metadata": {},
   "outputs": [
    {
     "data": {
      "text/plain": [
       "'Python'"
      ]
     },
     "execution_count": 12,
     "metadata": {},
     "output_type": "execute_result"
    }
   ],
   "source": [
    "tournamentWinner(competitions,results)"
   ]
  },
  {
   "cell_type": "code",
   "execution_count": null,
   "id": "634a0582",
   "metadata": {},
   "outputs": [],
   "source": []
  },
  {
   "cell_type": "markdown",
   "id": "0c5c1e34",
   "metadata": {},
   "source": [
    "# Coin Change"
   ]
  },
  {
   "cell_type": "code",
   "execution_count": 13,
   "id": "62559469",
   "metadata": {},
   "outputs": [],
   "source": [
    "def nonConstructibleChange(coins):\n",
    "    coins.sort()\n",
    "    currentChangeCreated=0\n",
    "\n",
    "    for coin in coins:\n",
    "        if coin>currentChangeCreated+1:\n",
    "            return currentChangeCreated+1\n",
    "        currentChangeCreated+=coin\n",
    "\n",
    "    return currentChangeCreated+1"
   ]
  },
  {
   "cell_type": "code",
   "execution_count": 14,
   "id": "8310e462",
   "metadata": {},
   "outputs": [],
   "source": [
    "coins=[5,7,1,1,2,3,22]"
   ]
  },
  {
   "cell_type": "code",
   "execution_count": 15,
   "id": "d9c69c8d",
   "metadata": {},
   "outputs": [
    {
     "data": {
      "text/plain": [
       "20"
      ]
     },
     "execution_count": 15,
     "metadata": {},
     "output_type": "execute_result"
    }
   ],
   "source": [
    "nonConstructibleChange(coins)"
   ]
  },
  {
   "cell_type": "markdown",
   "id": "1903f7f8",
   "metadata": {},
   "source": [
    "# 3-Sum"
   ]
  },
  {
   "cell_type": "code",
   "execution_count": 16,
   "id": "0d4bf4e9",
   "metadata": {},
   "outputs": [],
   "source": [
    "def threeNumberSum(array, targetSum):\n",
    "    if len(array)<3:\n",
    "        return(-1)\n",
    "    array.sort()\n",
    "    triplets=[]\n",
    "\n",
    "    for i,a in enumerate(array):\n",
    "        if i>0 and a==array[i-1]:\n",
    "            continue\n",
    "        left,right=i+1,len(array)-1\n",
    "        while left<right:\n",
    "            currentSum=a+array[left]+array[right]\n",
    "            if currentSum>0:\n",
    "                right-=1\n",
    "            elif currentSum<0:\n",
    "                left+=1\n",
    "            else:\n",
    "                triplets.append([a,array[left],array[right]])\n",
    "                left+=1\n",
    "                while array[left]==array[left-1] and left<right:\n",
    "                    left+=1\n",
    "    if len(triplets)<1:\n",
    "        return -1\n",
    "    else:\n",
    "        return triplets\n",
    "            "
   ]
  },
  {
   "cell_type": "code",
   "execution_count": 17,
   "id": "1f7e1242",
   "metadata": {},
   "outputs": [],
   "source": [
    "array=[-1,0,1,2,-1,-4]"
   ]
  },
  {
   "cell_type": "code",
   "execution_count": 18,
   "id": "2289ad8b",
   "metadata": {},
   "outputs": [
    {
     "data": {
      "text/plain": [
       "[[-1, -1, 2], [-1, 0, 1]]"
      ]
     },
     "execution_count": 18,
     "metadata": {},
     "output_type": "execute_result"
    }
   ],
   "source": [
    "threeNumberSum(array, 0)"
   ]
  },
  {
   "cell_type": "markdown",
   "id": "4636f779",
   "metadata": {},
   "source": [
    "# Smallest Difference"
   ]
  },
  {
   "cell_type": "code",
   "execution_count": 19,
   "id": "8d53cacc",
   "metadata": {},
   "outputs": [],
   "source": [
    "def smallestDifference(arrayOne,arrayTwo):\n",
    "    arrayOne.sort()\n",
    "    arrayTwo.sort()\n",
    "    idxOne=0\n",
    "    idxTwo=0\n",
    "    smallest=float(\"inf\")\n",
    "    current=float(\"inf\")\n",
    "    smallestPair=[]\n",
    "    while idxOne<len(arrayOne) and idxTwo<len(arrayTwo):\n",
    "        firstNum=arrayOne[idxOne]\n",
    "        secondNum=arrayTwo[idxTwo]\n",
    "        if firstNum<secondNum:\n",
    "            current=secondNum-firstNum\n",
    "            idxOne+=1\n",
    "        elif secondNum<firstNum:\n",
    "            current=firstNum-secondNum\n",
    "            idxTwo+=1\n",
    "        else:\n",
    "            return [firstNum,secondNum]\n",
    "\n",
    "        if smallest>current:\n",
    "            smallest=current\n",
    "            smallestPair=[firstNum,secondNum]\n",
    "            \n",
    "    return smallestPair"
   ]
  },
  {
   "cell_type": "code",
   "execution_count": 20,
   "id": "73fbd2b9",
   "metadata": {},
   "outputs": [],
   "source": [
    "array1=[-1,5,10,20,28,3]\n",
    "array2=[26,134,135,15,17]"
   ]
  },
  {
   "cell_type": "code",
   "execution_count": 21,
   "id": "b96d0e58",
   "metadata": {},
   "outputs": [
    {
     "data": {
      "text/plain": [
       "[28, 26]"
      ]
     },
     "execution_count": 21,
     "metadata": {},
     "output_type": "execute_result"
    }
   ],
   "source": [
    "smallestDifference(array1,array2)"
   ]
  },
  {
   "cell_type": "code",
   "execution_count": 22,
   "id": "f768bee3",
   "metadata": {},
   "outputs": [],
   "source": [
    "def smallestDifference(array):\n",
    "    array.sort()\n",
    "    i=0\n",
    "    j=len(array)-1\n",
    "    smallest=float(\"inf\")\n",
    "    current=float(\"inf\")\n",
    "    smallestPair=[]\n",
    "    while i<j:\n",
    "        firstNum=array[i]\n",
    "        secondNum=array[j]\n",
    "        if firstNum<secondNum:\n",
    "            current=secondNum-firstNum\n",
    "            i+=1\n",
    "        elif secondNum<firstNum:\n",
    "            current=firstNum-secondNum\n",
    "            j-=1\n",
    "        else:\n",
    "            return [firstNum,secondNum]\n",
    "\n",
    "        if smallest==current:\n",
    "            smallestPair.append((firstNum,secondNum))\n",
    "        \n",
    "        elif smallest>current:\n",
    "            smallest=current\n",
    "            smallestPair=[firstNum,secondNum]\n",
    "            \n",
    "    return smallestPair"
   ]
  },
  {
   "cell_type": "markdown",
   "id": "cc7038a1",
   "metadata": {},
   "source": [
    "2nd Approach"
   ]
  },
  {
   "cell_type": "code",
   "execution_count": 23,
   "id": "09196be4",
   "metadata": {},
   "outputs": [],
   "source": [
    "import math"
   ]
  },
  {
   "cell_type": "code",
   "execution_count": 24,
   "id": "f2efaaee",
   "metadata": {},
   "outputs": [],
   "source": [
    "def smallestDifference_1(array):\n",
    "    array.sort()\n",
    "    minimal=math.inf\n",
    "    result=[]\n",
    "    \n",
    "    for (a,b) in zip(array,array[1:]):\n",
    "        diff=abs(b-a)\n",
    "        if diff==minimal:\n",
    "            result.append([a,b])\n",
    "        elif diff<minimal:\n",
    "            minimal=diff\n",
    "            result=[[a,b]]\n",
    "    return result"
   ]
  },
  {
   "cell_type": "code",
   "execution_count": 25,
   "id": "a67b8906",
   "metadata": {},
   "outputs": [],
   "source": [
    "array=[4,2,1,3]"
   ]
  },
  {
   "cell_type": "code",
   "execution_count": 26,
   "id": "2fbe1a1b",
   "metadata": {},
   "outputs": [
    {
     "data": {
      "text/plain": [
       "[[1, 2], [2, 3], [3, 4]]"
      ]
     },
     "execution_count": 26,
     "metadata": {},
     "output_type": "execute_result"
    }
   ],
   "source": [
    "smallestDifference_1(array)"
   ]
  },
  {
   "cell_type": "code",
   "execution_count": null,
   "id": "599b4a89",
   "metadata": {},
   "outputs": [],
   "source": []
  },
  {
   "cell_type": "markdown",
   "id": "ff057100",
   "metadata": {},
   "source": [
    "# Move elements to the end"
   ]
  },
  {
   "cell_type": "code",
   "execution_count": 27,
   "id": "fe92b06f",
   "metadata": {},
   "outputs": [],
   "source": [
    "def moveElementToEnd(array, toMove):\n",
    "    i=0\n",
    "    j=len(array)-1\n",
    "\n",
    "    while i<j:\n",
    "        while i<j and array[j]==toMove:\n",
    "            j-=1\n",
    "        if array[i]==toMove:\n",
    "            array[i],array[j]=array[j],array[i]\n",
    "        i+=1\n",
    "    return array"
   ]
  },
  {
   "cell_type": "code",
   "execution_count": 28,
   "id": "0ba51613",
   "metadata": {},
   "outputs": [],
   "source": [
    "def moveZeros1(array):\n",
    "    l=0\n",
    "    for r in range(len(array)):\n",
    "        if array[r]!=0:\n",
    "            array[l],array[r]=array[r],array[l]\n",
    "            l+=1\n",
    "    return array"
   ]
  },
  {
   "cell_type": "code",
   "execution_count": 29,
   "id": "bbd6a0ac",
   "metadata": {},
   "outputs": [],
   "source": [
    "array = [0,1,0,3,12]"
   ]
  },
  {
   "cell_type": "code",
   "execution_count": 30,
   "id": "fa2ab9ab",
   "metadata": {},
   "outputs": [
    {
     "data": {
      "text/plain": [
       "[1, 3, 12, 0, 0]"
      ]
     },
     "execution_count": 30,
     "metadata": {},
     "output_type": "execute_result"
    }
   ],
   "source": [
    "moveZeros1(array)"
   ]
  },
  {
   "cell_type": "code",
   "execution_count": null,
   "id": "085c2b6b",
   "metadata": {},
   "outputs": [],
   "source": []
  },
  {
   "cell_type": "markdown",
   "id": "be5da26f",
   "metadata": {},
   "source": [
    "# Monotonic Array"
   ]
  },
  {
   "cell_type": "code",
   "execution_count": 31,
   "id": "809a4778",
   "metadata": {},
   "outputs": [],
   "source": [
    "def isMonotonic(array):\n",
    "    increasing=False\n",
    "    decreasing=False\n",
    "    for i in range(1,len(array)):\n",
    "        if array[i]==array[i-1]:\n",
    "            i+=1\n",
    "        if array[i]<array[i-1]:\n",
    "            decreasing =True\n",
    "        elif array[i]>array[i-1]:\n",
    "            increasing=True\n",
    "        if increasing==True and decreasing==True:\n",
    "            return False\n",
    "    return -1"
   ]
  },
  {
   "cell_type": "code",
   "execution_count": 32,
   "id": "27003911",
   "metadata": {},
   "outputs": [
    {
     "data": {
      "text/plain": [
       "False"
      ]
     },
     "execution_count": 32,
     "metadata": {},
     "output_type": "execute_result"
    }
   ],
   "source": [
    "isMonotonic([1,1,1,2,1])"
   ]
  },
  {
   "cell_type": "code",
   "execution_count": null,
   "id": "873ec2af",
   "metadata": {},
   "outputs": [],
   "source": []
  },
  {
   "cell_type": "markdown",
   "id": "aa295bd5",
   "metadata": {},
   "source": [
    "# Spiral Traverse"
   ]
  },
  {
   "cell_type": "code",
   "execution_count": 33,
   "id": "978035bd",
   "metadata": {},
   "outputs": [],
   "source": [
    "# Time: O(N) times and space: O(N)\n",
    "def spiralTraverse(array):\n",
    "    result=[]\n",
    "    startRow,endRow=0,len(array)-1\n",
    "    startCol,endCol=0,len(array[0])-1\n",
    "    while startRow<=endRow and startCol<=endCol:\n",
    "        for col in range(startCol,endCol+1):\n",
    "            result.append(array[startRow][col])\n",
    "            \n",
    "        for row in range(startRow+1,endRow+1):\n",
    "            result.append(array[row][endCol])\n",
    "            \n",
    "        for col in reversed(range(startCol,endCol)):\n",
    "            if startRow==endRow:\n",
    "                break\n",
    "            result.append(array[endRow][col])\n",
    "            \n",
    "        for row in reversed(range(startRow+1,endRow)):\n",
    "            if startCol==endCol:\n",
    "                break\n",
    "            result.append(array[row][startCol])    \n",
    "        startRow+=1\n",
    "        endRow-=1\n",
    "        startCol+=1\n",
    "        endCol-=1\n",
    "    return result"
   ]
  },
  {
   "cell_type": "code",
   "execution_count": 34,
   "id": "05785088",
   "metadata": {},
   "outputs": [],
   "source": [
    "array= [\n",
    "    [1, 2, 3, 4],\n",
    "    [10, 11, 12, 5],\n",
    "    [9, 8, 7, 6]\n",
    "  ]\n"
   ]
  },
  {
   "cell_type": "code",
   "execution_count": 35,
   "id": "b07bf887",
   "metadata": {},
   "outputs": [
    {
     "data": {
      "text/plain": [
       "[1, 2, 3, 4, 5, 6, 7, 8, 9, 10, 11, 12]"
      ]
     },
     "execution_count": 35,
     "metadata": {},
     "output_type": "execute_result"
    }
   ],
   "source": [
    " spiralTraverse(array)"
   ]
  },
  {
   "cell_type": "code",
   "execution_count": null,
   "id": "d5885f88",
   "metadata": {},
   "outputs": [],
   "source": []
  },
  {
   "cell_type": "markdown",
   "id": "3f5ad7cb",
   "metadata": {},
   "source": [
    "# Longest Peak"
   ]
  },
  {
   "cell_type": "code",
   "execution_count": 36,
   "id": "f191ca8d",
   "metadata": {},
   "outputs": [],
   "source": [
    "def longestPeak(array):\n",
    "    lengthLongestPeak=0\n",
    "    i=1\n",
    "    while i<len(array)-1:\n",
    "        isPeak= array[i-1]<array[i] and array[i]>array[i+1]\n",
    "        if not isPeak:\n",
    "            i+=1\n",
    "            continue\n",
    "        leftidx=i-2\n",
    "        while leftidx>=0 and array[leftidx]<array[leftidx+1]:\n",
    "            leftidx-=1\n",
    "        rightidx=i+2\n",
    "        while rightidx<len(array) and array[rightidx]<array[rightidx-1]:\n",
    "            rightidx+=1\n",
    "        \n",
    "        currentPeakLength=rightidx-leftidx-1\n",
    "        lengthLongestPeak=max(lengthLongestPeak,currentPeakLength)\n",
    "        i=rightidx\n",
    "\n",
    "    return lengthLongestPeak\n"
   ]
  },
  {
   "cell_type": "code",
   "execution_count": 37,
   "id": "3bbb1396",
   "metadata": {},
   "outputs": [],
   "source": [
    "array=[2,2,2]"
   ]
  },
  {
   "cell_type": "code",
   "execution_count": 38,
   "id": "5d09e944",
   "metadata": {},
   "outputs": [
    {
     "data": {
      "text/plain": [
       "0"
      ]
     },
     "execution_count": 38,
     "metadata": {},
     "output_type": "execute_result"
    }
   ],
   "source": [
    "longestPeak(array)"
   ]
  },
  {
   "cell_type": "code",
   "execution_count": null,
   "id": "eb5b3b1b",
   "metadata": {},
   "outputs": [],
   "source": []
  },
  {
   "cell_type": "markdown",
   "id": "e234901d",
   "metadata": {},
   "source": [
    "# Array of Products"
   ]
  },
  {
   "cell_type": "code",
   "execution_count": 39,
   "id": "6ecae11c",
   "metadata": {},
   "outputs": [],
   "source": [
    "#  Brute force approach\n",
    "# T=O(n^2) and space=O(n)\n",
    "def arrayOfProducts(array):\n",
    "    products=[1 for _ in range(len(array))]\n",
    "    for i in range(len(array)):\n",
    "        runningProduct=1\n",
    "        for j in range(len(array)):\n",
    "            if i!=j:\n",
    "                runningProduct*=array[j]\n",
    "        products[i]=runningProduct\n",
    "    return products\n",
    "    "
   ]
  },
  {
   "cell_type": "code",
   "execution_count": 40,
   "id": "b5852910",
   "metadata": {},
   "outputs": [],
   "source": [
    "array=[5,1,4,2]"
   ]
  },
  {
   "cell_type": "code",
   "execution_count": 41,
   "id": "4b80e306",
   "metadata": {},
   "outputs": [
    {
     "data": {
      "text/plain": [
       "[8, 40, 10, 20]"
      ]
     },
     "execution_count": 41,
     "metadata": {},
     "output_type": "execute_result"
    }
   ],
   "source": [
    "arrayOfProducts(array)"
   ]
  },
  {
   "cell_type": "code",
   "execution_count": 42,
   "id": "3a0bc51e",
   "metadata": {},
   "outputs": [],
   "source": [
    "# 2nd approach\n",
    "# T=O(n) and space=O(n)\n",
    "def arrayOfProducts1(array):\n",
    "    product=[1 for _ in range(len(array))]\n",
    "    leftArray=[1 for _ in range(len(array))]\n",
    "    rightArray=[1 for _ in range(len(array))]\n",
    "    \n",
    "    leftRunningProduct=1\n",
    "    for i in range(len(array)):\n",
    "        leftArray[i]=leftRunningProduct\n",
    "        leftRunningProduct*=array[i]\n",
    "        \n",
    "    rightRunningProduct=1\n",
    "    for i in reversed(range(len(array))):\n",
    "        rightArray[i]=rightRunningProduct\n",
    "        rightRunningProduct*=array[i]\n",
    "    \n",
    "    for i in range(len(array)):\n",
    "        product[i]=leftArray[i]*rightArray[i]\n",
    "    return product"
   ]
  },
  {
   "cell_type": "code",
   "execution_count": 43,
   "id": "a0672dcf",
   "metadata": {},
   "outputs": [],
   "source": [
    "array=[5,1,4,2]"
   ]
  },
  {
   "cell_type": "code",
   "execution_count": 44,
   "id": "ad0cd9fd",
   "metadata": {},
   "outputs": [
    {
     "data": {
      "text/plain": [
       "[8, 40, 10, 20]"
      ]
     },
     "execution_count": 44,
     "metadata": {},
     "output_type": "execute_result"
    }
   ],
   "source": [
    "arrayOfProducts1(array)"
   ]
  },
  {
   "cell_type": "code",
   "execution_count": 45,
   "id": "29e9a627",
   "metadata": {},
   "outputs": [],
   "source": [
    "# 3rd approach\n",
    "# T=O(n) and space=O(n)\n",
    "def arrayOfProducts2(array):\n",
    "    product=[1 for _ in array]\n",
    "    leftArray=[1 for _ in array]\n",
    "    \n",
    "    leftRunningProduct=1\n",
    "    for i in range(len(array)):\n",
    "        leftArray[i]=leftRunningProduct\n",
    "        leftRunningProduct*=array[i]\n",
    "        \n",
    "    rightRunningProduct=1   \n",
    "    for i in reversed(range(len(array))):\n",
    "        product[i]=leftArray[i]*  rightRunningProduct\n",
    "        rightRunningProduct*=array[i]\n",
    "    return product"
   ]
  },
  {
   "cell_type": "code",
   "execution_count": 46,
   "id": "c2291c5b",
   "metadata": {},
   "outputs": [],
   "source": [
    "array=[5,1,4,2]"
   ]
  },
  {
   "cell_type": "code",
   "execution_count": 47,
   "id": "aeec5254",
   "metadata": {},
   "outputs": [
    {
     "data": {
      "text/plain": [
       "[8, 40, 10, 20]"
      ]
     },
     "execution_count": 47,
     "metadata": {},
     "output_type": "execute_result"
    }
   ],
   "source": [
    "arrayOfProducts2(array)"
   ]
  },
  {
   "cell_type": "code",
   "execution_count": null,
   "id": "6c227b85",
   "metadata": {},
   "outputs": [],
   "source": []
  },
  {
   "cell_type": "markdown",
   "id": "1624d9a6",
   "metadata": {},
   "source": [
    "# First Duplicate Value"
   ]
  },
  {
   "cell_type": "code",
   "execution_count": 48,
   "id": "e13cf454",
   "metadata": {},
   "outputs": [],
   "source": [
    "# Brute force approach\n",
    "# Time=O(n^2) and Space=O(1)\n",
    "def firstDuplicate(array):\n",
    "    minimumValue=len(array)\n",
    "    for i in range(len(array)-1):\n",
    "        for j in range(i+1,len(array)):\n",
    "            if array[i]==array[j]:\n",
    "                minimumValue=min(minimumValue,j)\n",
    "    if minimumValue==len(array):\n",
    "        return -1\n",
    "    \n",
    "    return array[minimumValue]"
   ]
  },
  {
   "cell_type": "code",
   "execution_count": 49,
   "id": "9ddb2918",
   "metadata": {},
   "outputs": [],
   "source": [
    "array = [4,3,2,5,5]"
   ]
  },
  {
   "cell_type": "code",
   "execution_count": 50,
   "id": "263c25ca",
   "metadata": {},
   "outputs": [
    {
     "data": {
      "text/plain": [
       "5"
      ]
     },
     "execution_count": 50,
     "metadata": {},
     "output_type": "execute_result"
    }
   ],
   "source": [
    "firstDuplicate(array)"
   ]
  },
  {
   "cell_type": "code",
   "execution_count": 51,
   "id": "b4e9e0f6",
   "metadata": {},
   "outputs": [],
   "source": [
    "# 2nd approach\n",
    "# # Time=O(n) and Space=O(n)\n",
    "def firstDuplicate1(array):\n",
    "    seen=set()\n",
    "    for i in range(len(array)):\n",
    "        if array[i] in seen:\n",
    "            return array[i]\n",
    "        seen.add(array[i])\n",
    "        \n",
    "    return -1"
   ]
  },
  {
   "cell_type": "code",
   "execution_count": 52,
   "id": "c23a17a0",
   "metadata": {},
   "outputs": [],
   "source": [
    "array = [3,1,6,2,5]"
   ]
  },
  {
   "cell_type": "code",
   "execution_count": 53,
   "id": "55786e41",
   "metadata": {},
   "outputs": [
    {
     "data": {
      "text/plain": [
       "-1"
      ]
     },
     "execution_count": 53,
     "metadata": {},
     "output_type": "execute_result"
    }
   ],
   "source": [
    "firstDuplicate1(array)"
   ]
  },
  {
   "cell_type": "code",
   "execution_count": 54,
   "id": "272e2dda",
   "metadata": {},
   "outputs": [],
   "source": [
    "# 3rd approach \n",
    "# # Time=O(n) and Space=O(1)\n",
    "def firstDuplicate2(array):\n",
    "    for value in array:\n",
    "        absValue=abs(value)\n",
    "        if array[absValue-1]<0:\n",
    "            return absValue\n",
    "        array[absValue-1]*=-1\n",
    "    return -1"
   ]
  },
  {
   "cell_type": "code",
   "execution_count": 55,
   "id": "45f55ded",
   "metadata": {},
   "outputs": [],
   "source": [
    "array = [3,1,4,2,5]"
   ]
  },
  {
   "cell_type": "code",
   "execution_count": 56,
   "id": "0abd1b82",
   "metadata": {},
   "outputs": [
    {
     "data": {
      "text/plain": [
       "-1"
      ]
     },
     "execution_count": 56,
     "metadata": {},
     "output_type": "execute_result"
    }
   ],
   "source": [
    "firstDuplicate2(array)"
   ]
  },
  {
   "cell_type": "code",
   "execution_count": null,
   "id": "4a4fac5f",
   "metadata": {},
   "outputs": [],
   "source": []
  },
  {
   "cell_type": "markdown",
   "id": "a988fe65",
   "metadata": {},
   "source": [
    "# Merge Overlapping Intervals"
   ]
  },
  {
   "cell_type": "code",
   "execution_count": 57,
   "id": "c1be6e2a",
   "metadata": {},
   "outputs": [],
   "source": [
    "# Time:O(nlog(n))  Space:O(n)\n",
    "def mergeOverlappingIntervals(intervals):\n",
    "    intervals.sort(key=lambda x:x[0])\n",
    "    output=[intervals[0]]\n",
    "    for start,end in intervals[1:]:\n",
    "        lastEnd=output[-1][1]\n",
    "        if lastEnd>=start:\n",
    "            output[-1][1]=max(lastEnd,end)\n",
    "        else:\n",
    "            output.append([start,end])        \n",
    "    return output   "
   ]
  },
  {
   "cell_type": "code",
   "execution_count": 58,
   "id": "f1e75e8f",
   "metadata": {},
   "outputs": [],
   "source": [
    "intervals=[[1,2],[4,7],[3,5],[6,8],[9,10]]"
   ]
  },
  {
   "cell_type": "code",
   "execution_count": 59,
   "id": "a2640f12",
   "metadata": {},
   "outputs": [
    {
     "data": {
      "text/plain": [
       "[[1, 2], [3, 8], [9, 10]]"
      ]
     },
     "execution_count": 59,
     "metadata": {},
     "output_type": "execute_result"
    }
   ],
   "source": [
    "mergeOverlappingIntervals(intervals)"
   ]
  },
  {
   "cell_type": "code",
   "execution_count": null,
   "id": "78722c0a",
   "metadata": {},
   "outputs": [],
   "source": []
  },
  {
   "cell_type": "markdown",
   "id": "d27a62c3",
   "metadata": {},
   "source": [
    "# Four Number Sum"
   ]
  },
  {
   "cell_type": "code",
   "execution_count": 60,
   "id": "1a6a2b60",
   "metadata": {},
   "outputs": [],
   "source": [
    "# T:O(n^2), S:O(n)\n",
    "def fourSum(array,target):\n",
    "    pairSum={}\n",
    "    output=[]\n",
    "    \n",
    "    for i in range(1,len(array)-1):\n",
    "        for j in range(i+1,len(array)):\n",
    "            currentSum=array[i]+array[j]\n",
    "            difference=target-currentSum\n",
    "            if difference in pairSum:\n",
    "                for pair in pairSum[difference]:\n",
    "                    output.append(pair+[array[i],array[j]])\n",
    "        for k in range(0,i):\n",
    "            currentSum=array[i]+array[k]\n",
    "            if currentSum not in pairSum:\n",
    "                pairSum[currentSum]=[[array[k],array[i]]]\n",
    "            else:\n",
    "                pairSum[currentSum].append([array[k],array[i]])\n",
    "    return output"
   ]
  },
  {
   "cell_type": "code",
   "execution_count": 61,
   "id": "ac9d9db1",
   "metadata": {},
   "outputs": [],
   "source": [
    "array=[7,6,4,-1,1,2]\n",
    "target=16"
   ]
  },
  {
   "cell_type": "code",
   "execution_count": 62,
   "id": "94a58edb",
   "metadata": {},
   "outputs": [
    {
     "data": {
      "text/plain": [
       "[[7, 6, 4, -1], [7, 6, 1, 2]]"
      ]
     },
     "execution_count": 62,
     "metadata": {},
     "output_type": "execute_result"
    }
   ],
   "source": [
    "fourSum(array,target)"
   ]
  },
  {
   "cell_type": "code",
   "execution_count": 63,
   "id": "65165c72",
   "metadata": {},
   "outputs": [],
   "source": [
    "array1=[2,2,2,2,2]\n",
    "target1=8"
   ]
  },
  {
   "cell_type": "code",
   "execution_count": 64,
   "id": "0e9929ab",
   "metadata": {},
   "outputs": [
    {
     "data": {
      "text/plain": [
       "[[2, 2, 2, 2], [2, 2, 2, 2], [2, 2, 2, 2], [2, 2, 2, 2], [2, 2, 2, 2]]"
      ]
     },
     "execution_count": 64,
     "metadata": {},
     "output_type": "execute_result"
    }
   ],
   "source": [
    "fourSum(array1,target1)"
   ]
  },
  {
   "cell_type": "code",
   "execution_count": null,
   "id": "630d91e9",
   "metadata": {},
   "outputs": [],
   "source": []
  },
  {
   "cell_type": "markdown",
   "id": "f843df45",
   "metadata": {},
   "source": [
    "# Subarray Sort"
   ]
  },
  {
   "cell_type": "code",
   "execution_count": 65,
   "id": "bc12c478",
   "metadata": {},
   "outputs": [],
   "source": [
    "array=[1, 2, 4, 7, 10, 11, 7, 12, 6, 7, 16, 18, 19]"
   ]
  },
  {
   "cell_type": "code",
   "execution_count": 66,
   "id": "f941126a",
   "metadata": {},
   "outputs": [],
   "source": [
    "# T:O(n) S:O(1)\n",
    "def findUnsortedSubarray(array):\n",
    "    if len(array) <= 1:\n",
    "        return 0\n",
    "    minOutOfOrder=float(\"inf\")\n",
    "    maxOutOfOrder=float(\"-inf\")\n",
    "    for i in range(len(array)):\n",
    "        num=array[i]\n",
    "        if isOutOfOrder(i,num,array):\n",
    "            minOutOfOrder=min(minOutOfOrder,num)\n",
    "            maxOutOfOrder=max(maxOutOfOrder,num)\n",
    "\n",
    "    if minOutOfOrder==float(\"inf\"):\n",
    "        return 0\n",
    "    leftidx=0\n",
    "    while minOutOfOrder>=array[leftidx]:\n",
    "        leftidx+=1\n",
    "    rightidx=len(array)-1\n",
    "    while maxOutOfOrder<=array[rightidx]:\n",
    "        rightidx-=1\n",
    "\n",
    "    return rightidx-leftidx+1\n",
    "\n",
    "def isOutOfOrder(i,num,array):\n",
    "    if i==0:\n",
    "        return num>array[i+1]\n",
    "    if i==len(array)-1:\n",
    "        return num<array[i-1]\n",
    "    return num<array[i-1] or num>array[i+1]"
   ]
  },
  {
   "cell_type": "code",
   "execution_count": null,
   "id": "b1629cc1",
   "metadata": {},
   "outputs": [],
   "source": []
  },
  {
   "cell_type": "markdown",
   "id": "e8e9a926",
   "metadata": {},
   "source": [
    "# Largest Range"
   ]
  },
  {
   "cell_type": "code",
   "execution_count": 67,
   "id": "8cd16cda",
   "metadata": {},
   "outputs": [],
   "source": [
    "# Approach 1\n",
    "# T: O(n) and Space: O(n)\n",
    "def largestRange(array):\n",
    "    output=[]\n",
    "    longestLength=0\n",
    "    nums={}\n",
    "    \n",
    "    for num in array:\n",
    "        nums[num]=True\n",
    "    for num in array:\n",
    "        if not nums[num]:\n",
    "            continue\n",
    "        nums[num]:False\n",
    "        currentLength=1\n",
    "        left=num-1\n",
    "        right=num+1\n",
    "        while left in nums:\n",
    "            nums[left]=False\n",
    "            currentLength+=1\n",
    "            left-=1\n",
    "        while right in nums:\n",
    "            nums[right]=False\n",
    "            currentLength+=1\n",
    "            right+=1\n",
    "        if currentLength>longestLength:\n",
    "            longestLength=currentLength\n",
    "            output=[left+1,right-1]\n",
    "    return output"
   ]
  },
  {
   "cell_type": "code",
   "execution_count": 68,
   "id": "82fdc1f1",
   "metadata": {},
   "outputs": [],
   "source": [
    "array=[1, 11, 3, 0, 15, 5, 2, 4, 10, 7, 12, 6]"
   ]
  },
  {
   "cell_type": "code",
   "execution_count": 69,
   "id": "a1b3b983",
   "metadata": {},
   "outputs": [
    {
     "data": {
      "text/plain": [
       "[0, 7]"
      ]
     },
     "execution_count": 69,
     "metadata": {},
     "output_type": "execute_result"
    }
   ],
   "source": [
    "largestRange(array)"
   ]
  },
  {
   "cell_type": "code",
   "execution_count": 70,
   "id": "e76f034a",
   "metadata": {},
   "outputs": [],
   "source": [
    "array=[8, 4, 2, 1, 3, 6, 7, 9, 5]"
   ]
  },
  {
   "cell_type": "code",
   "execution_count": 71,
   "id": "35b64d59",
   "metadata": {},
   "outputs": [
    {
     "data": {
      "text/plain": [
       "9"
      ]
     },
     "execution_count": 71,
     "metadata": {},
     "output_type": "execute_result"
    }
   ],
   "source": [
    "len(array)"
   ]
  },
  {
   "cell_type": "markdown",
   "id": "0fddb2b4",
   "metadata": {},
   "source": [
    "# Min Rewards"
   ]
  },
  {
   "cell_type": "code",
   "execution_count": 72,
   "id": "d7604c9a",
   "metadata": {},
   "outputs": [],
   "source": [
    "def minRewards(array):\n",
    "    rewards=[1 for _ in array]\n",
    "    for i in range(1,len(array)):\n",
    "        if array[i]>array[i-1]:\n",
    "            rewards[i]=rewards[i-1]+1\n",
    "    for i in reversed(range(len(array)-1)):\n",
    "        if array[i]>array[i+1]:\n",
    "            rewards[i]=max(rewards[i],rewards[i+1]+1)\n",
    "    return sum(rewards)"
   ]
  },
  {
   "cell_type": "code",
   "execution_count": 73,
   "id": "5b5461ca",
   "metadata": {},
   "outputs": [],
   "source": [
    "array=[8, 4, 2, 1, 3, 6, 7, 9, 5]"
   ]
  },
  {
   "cell_type": "code",
   "execution_count": 74,
   "id": "707f5ba3",
   "metadata": {
    "scrolled": true
   },
   "outputs": [
    {
     "data": {
      "text/plain": [
       "25"
      ]
     },
     "execution_count": 74,
     "metadata": {},
     "output_type": "execute_result"
    }
   ],
   "source": [
    "minRewards(array)"
   ]
  },
  {
   "cell_type": "code",
   "execution_count": null,
   "id": "62b54fb3",
   "metadata": {},
   "outputs": [],
   "source": []
  },
  {
   "cell_type": "markdown",
   "id": "6ee8134c",
   "metadata": {},
   "source": [
    "# Zigzag Traverse (Avghad ahe parat bag) "
   ]
  },
  {
   "cell_type": "code",
   "execution_count": 75,
   "id": "7a40b8d1",
   "metadata": {},
   "outputs": [],
   "source": [
    "array=[\n",
    "  [1, 3, 4, 10],\n",
    "  [2, 5, 9, 11],\n",
    "  [6, 8, 12, 15],\n",
    "  [7, 13, 14, 16]\n",
    "]"
   ]
  },
  {
   "cell_type": "code",
   "execution_count": 76,
   "id": "3305a489",
   "metadata": {},
   "outputs": [],
   "source": [
    "# T=O(n) and S:O(n)\n",
    "    \n",
    "def zigzagTraverse(array):\n",
    "    height=len(array)-1\n",
    "    width=len(array[0])-1\n",
    "    result=[]\n",
    "    row,col=0,0\n",
    "    goingDown=True\n",
    "    while not isOutOfBound(row,col,height,width):\n",
    "        result.append(array[row][col])\n",
    "        if goingDown:\n",
    "            if col==0 or row==height:\n",
    "                goingDown=False\n",
    "                if row==height:\n",
    "                    col+=1\n",
    "                else:\n",
    "                    row+=1\n",
    "            else:\n",
    "                row+=1\n",
    "                col-=1\n",
    "        else:\n",
    "            if row==0 or col==width:\n",
    "                goingDown=True\n",
    "                if col==width:\n",
    "                    row+=1    \n",
    "                else:\n",
    "                    col+=1\n",
    "            else:\n",
    "                row-=1\n",
    "                col+=1\n",
    "        \n",
    "    return result"
   ]
  },
  {
   "cell_type": "code",
   "execution_count": 77,
   "id": "81daec3a",
   "metadata": {},
   "outputs": [],
   "source": [
    "def isOutOfBound(row,col,height,width):\n",
    "    return row<0 or row>height or col<0 or col>width"
   ]
  },
  {
   "cell_type": "code",
   "execution_count": 78,
   "id": "e1dfea95",
   "metadata": {},
   "outputs": [
    {
     "data": {
      "text/plain": [
       "[1, 2, 3, 4, 5, 6, 7, 8, 9, 10, 11, 12, 13, 14, 15, 16]"
      ]
     },
     "execution_count": 78,
     "metadata": {},
     "output_type": "execute_result"
    }
   ],
   "source": [
    "zigzagTraverse(array)"
   ]
  },
  {
   "cell_type": "code",
   "execution_count": 79,
   "id": "558344e6",
   "metadata": {},
   "outputs": [],
   "source": [
    "array1=[[1,2,3],[4,5,6],[7,8,9]]"
   ]
  },
  {
   "cell_type": "code",
   "execution_count": 80,
   "id": "f7504c78",
   "metadata": {},
   "outputs": [
    {
     "data": {
      "text/plain": [
       "[1, 4, 2, 3, 5, 7, 8, 6, 9]"
      ]
     },
     "execution_count": 80,
     "metadata": {},
     "output_type": "execute_result"
    }
   ],
   "source": [
    "zigzagTraverse(array1)"
   ]
  },
  {
   "cell_type": "code",
   "execution_count": null,
   "id": "f0481647",
   "metadata": {},
   "outputs": [],
   "source": []
  },
  {
   "cell_type": "markdown",
   "id": "dd13256c",
   "metadata": {},
   "source": [
    "# Apartment Hunting"
   ]
  },
  {
   "cell_type": "code",
   "execution_count": 81,
   "id": "5ada44ec",
   "metadata": {},
   "outputs": [],
   "source": [
    "# Approach 1: Time:O(B^2R) , Space= O(B) \n",
    "def apartmentHunting(blocks,reqs):\n",
    "    maxLength=[float('-inf') for _ in blocks]\n",
    "    for i in range(len(blocks)):\n",
    "        for req in reqs:\n",
    "            closetReqDistance=float(\"inf\")\n",
    "            for j in range(len(blocks)):\n",
    "                if blocks[j][req]:\n",
    "                    closetReqDistance=min(closetReqDistance,distanceBetweenReq(i,j))\n",
    "            maxLength[i]= max(maxLength[i],closetReqDistance)\n",
    "    return  getIdx(maxLength)\n",
    "\n",
    "def distanceBetweenReq(a,b):\n",
    "    return abs(a-b)\n",
    "\n",
    "def getIdx(array):\n",
    "    idxAtMinValue=0\n",
    "    minValue=float(\"inf\")\n",
    "    for i in range(len(array)):\n",
    "        currentValue=array[i]\n",
    "        if currentValue<minValue:\n",
    "            minValue=min(minValue,currentValue)\n",
    "            idxAtMinValue=i\n",
    "    return idxAtMinValue"
   ]
  },
  {
   "cell_type": "code",
   "execution_count": 82,
   "id": "098c21c3",
   "metadata": {},
   "outputs": [],
   "source": [
    "# Optimized Approach : Time:O(BR) , Space= O(BR) \n",
    "def apartmentHunting2(blocks,reqs):\n",
    "    minDistanceFromBlocks=list(map(lambda req:getMinDistances(blocks,req), reqs))\n",
    "#     [[1, 0, 0, 1, 2], [0, 1, 0, 0, 0], [4, 3, 2, 1, 0]]\n",
    "    maxDistanceAtBlocks=getMaxValues(blocks, minDistanceFromBlocks)    \n",
    "#     [4, 3, 2, 1, 2]\n",
    "    \n",
    "    return getIdx(maxDistanceAtBlocks)\n",
    "\n",
    "# ------------------------------------------------------------------------------------------------\n",
    "\n",
    "# Helper Functions\n",
    "def getMinDistances(blocks,req):\n",
    "    minDistance=[0 for block in blocks]\n",
    "    closestReqIdx=float(\"inf\")\n",
    "    for i in range(len(blocks)):\n",
    "        if blocks[i][req]:\n",
    "            closestReqIdx=i\n",
    "        minDistance[i]=distanceBetween(i,closestReqIdx)\n",
    "    for i in reversed(range(len(blocks))):\n",
    "        if blocks[i][req]:\n",
    "            closestReqIdx=i\n",
    "        minDistance[i]=min(minDistance[i],distanceBetween(i,closestReqIdx))\n",
    "    return minDistance \n",
    "\n",
    "def distanceBetween(a,b):\n",
    "    return abs(a-b)\n",
    "\n",
    "def getMaxValues(blocks, minDistanceFromBlocks):\n",
    "    minDistancesAtBlocks=[0 for blocks in blocks]\n",
    "    for i in range(len(blocks)):\n",
    "        minDistancesAtBlock=list(map(lambda x:x[i],minDistanceFromBlocks))\n",
    "#         [[1, 0, 4], [0, 1, 3], [0, 0, 2], [1, 0, 1], [2, 0, 0]]\n",
    "        minDistancesAtBlocks[i]=max(minDistancesAtBlock)\n",
    "#         [4, 3, 2, 1, 2]\n",
    "    return minDistancesAtBlocks\n",
    "\n",
    "def getIdx(array):\n",
    "    idxAtMinValue=0\n",
    "    minValue=float(\"inf\")\n",
    "    for i in range(len(array)):\n",
    "        currentValue=array[i]\n",
    "        if currentValue<minValue:\n",
    "            minValue=min(minValue,currentValue)\n",
    "            idxAtMinValue=i\n",
    "    return idxAtMinValue"
   ]
  },
  {
   "cell_type": "code",
   "execution_count": 83,
   "id": "96143dd2",
   "metadata": {},
   "outputs": [],
   "source": [
    "blocks=[\n",
    "  {\n",
    "    \"gym\": False,\n",
    "    \"school\": True,\n",
    "    \"store\": False\n",
    "  },\n",
    "  {\n",
    "    \"gym\": True,\n",
    "    \"school\": False,\n",
    "    \"store\": False\n",
    "  },\n",
    "  {\n",
    "    \"gym\": True,\n",
    "    \"school\": True,\n",
    "    \"store\": False\n",
    "  },\n",
    "  {\n",
    "    \"gym\": False,\n",
    "    \"school\": True,\n",
    "    \"store\": False\n",
    "  },\n",
    "  {\n",
    "    \"gym\": False,\n",
    "    \"school\": True,\n",
    "    \"store\": True\n",
    "  }\n",
    "]"
   ]
  },
  {
   "cell_type": "code",
   "execution_count": 84,
   "id": "4c70f820",
   "metadata": {},
   "outputs": [],
   "source": [
    "reqs=[\"gym\", \"school\", \"store\"]"
   ]
  },
  {
   "cell_type": "code",
   "execution_count": 85,
   "id": "29782f10",
   "metadata": {},
   "outputs": [
    {
     "data": {
      "text/plain": [
       "3"
      ]
     },
     "execution_count": 85,
     "metadata": {},
     "output_type": "execute_result"
    }
   ],
   "source": [
    "apartmentHunting(blocks,reqs)"
   ]
  },
  {
   "cell_type": "code",
   "execution_count": null,
   "id": "99ebb48c",
   "metadata": {},
   "outputs": [],
   "source": []
  }
 ],
 "metadata": {
  "kernelspec": {
   "display_name": "Python 3 (ipykernel)",
   "language": "python",
   "name": "python3"
  },
  "language_info": {
   "codemirror_mode": {
    "name": "ipython",
    "version": 3
   },
   "file_extension": ".py",
   "mimetype": "text/x-python",
   "name": "python",
   "nbconvert_exporter": "python",
   "pygments_lexer": "ipython3",
   "version": "3.8.13"
  },
  "vscode": {
   "interpreter": {
    "hash": "369f2c481f4da34e4445cda3fffd2e751bd1c4d706f27375911949ba6bb62e1c"
   }
  }
 },
 "nbformat": 4,
 "nbformat_minor": 5
}
